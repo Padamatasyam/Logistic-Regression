{
 "cells": [
  {
   "cell_type": "code",
   "execution_count": 1,
   "id": "602ec79a",
   "metadata": {},
   "outputs": [
    {
     "name": "stderr",
     "output_type": "stream",
     "text": [
      "2024-04-29 10:16:49.209 \n",
      "  \u001b[33m\u001b[1mWarning:\u001b[0m to view this Streamlit app on a browser, run it with the following\n",
      "  command:\n",
      "\n",
      "    streamlit run C:\\ProgramData\\anaconda3\\Lib\\site-packages\\ipykernel_launcher.py [ARGUMENTS]\n"
     ]
    }
   ],
   "source": [
    "import pandas as pd\n",
    "import streamlit as st\n",
    "from sklearn.linear_model import LogisticRegression\n",
    "from sklearn.preprocessing import StandardScaler\n",
    "\n",
    "# Load the datasets\n",
    "train_data = pd.read_csv(r\"C:\\Users\\Dell\\Downloads\\Logistic Regression\\Logistic Regression\\Logistic Regression\\Titanic_train.csv\")\n",
    "test_data = pd.read_csv(r\"C:\\Users\\Dell\\Downloads\\Logistic Regression\\Logistic Regression\\Logistic Regression\\Titanic_test.csv\")\n",
    "\n",
    "# Preprocessing\n",
    "def preprocess_data(data):\n",
    "    numeric_cols = ['Age', 'Fare']\n",
    "    data[numeric_cols] = data[numeric_cols].fillna(data[numeric_cols].mean())\n",
    "    return data\n",
    "\n",
    "train_data = preprocess_data(train_data)\n",
    "test_data = preprocess_data(test_data)\n",
    "\n",
    "# Model training\n",
    "X_train = train_data.drop(['PassengerId', 'Survived', 'Name', 'Sex', 'Ticket', 'Cabin', 'Embarked'], axis=1)\n",
    "y_train = train_data['Survived']\n",
    "\n",
    "scaler = StandardScaler()\n",
    "X_train_scaled = scaler.fit_transform(X_train)\n",
    "\n",
    "model = LogisticRegression()\n",
    "model.fit(X_train_scaled, y_train)\n",
    "\n",
    "# Streamlit app\n",
    "st.title('Titanic Survival Prediction')\n",
    "\n",
    "st.sidebar.header('User Input Parameters')\n",
    "\n",
    "def user_input_features():\n",
    "    Pclass = st.sidebar.slider('Pclass', 1, 3, 2)\n",
    "    Age = st.sidebar.number_input('Age', min_value=0, max_value=100, value=30)\n",
    "    SibSp = st.sidebar.slider('Siblings/Spouses Aboard', 0, 8, 0)\n",
    "    Parch = st.sidebar.slider('Parents/Children Aboard', 0, 6, 0)\n",
    "    Fare = st.sidebar.number_input('Fare', min_value=0, value=50)\n",
    "    \n",
    "    data = {'Pclass': Pclass,\n",
    "            'Age': Age,\n",
    "            'SibSp': SibSp,\n",
    "            'Parch': Parch,\n",
    "            'Fare': Fare}\n",
    "    \n",
    "    features = pd.DataFrame(data, index=[0])\n",
    "    return features\n",
    "\n",
    "input_df = user_input_features()\n",
    "\n",
    "# Preprocess the input data\n",
    "scaled_input = scaler.transform(input_df)\n",
    "\n",
    "st.subheader('User Input parameters')\n",
    "st.write(input_df)\n",
    "\n",
    "# Make predictions\n",
    "prediction = model.predict(scaled_input)\n",
    "prediction_proba = model.predict_proba(scaled_input)\n",
    "\n",
    "st.subheader('Predicted Result')\n",
    "if prediction[0] == 1:\n",
    "    st.write('The passenger is predicted to survive.')\n",
    "else:\n",
    "    st.write('The passenger is predicted not to survive.')\n",
    "\n",
    "st.subheader('Prediction Probability')\n",
    "st.write(f\"Probability of not surviving: {prediction_proba[0][0]:.2f}\")\n",
    "st.write(f\"Probability of surviving: {prediction_proba[0][1]:.2f}\")\n"
   ]
  },
  {
   "cell_type": "code",
   "execution_count": null,
   "id": "203ced6d",
   "metadata": {},
   "outputs": [],
   "source": []
  }
 ],
 "metadata": {
  "kernelspec": {
   "display_name": "Python 3 (ipykernel)",
   "language": "python",
   "name": "python3"
  },
  "language_info": {
   "codemirror_mode": {
    "name": "ipython",
    "version": 3
   },
   "file_extension": ".py",
   "mimetype": "text/x-python",
   "name": "python",
   "nbconvert_exporter": "python",
   "pygments_lexer": "ipython3",
   "version": "3.11.5"
  }
 },
 "nbformat": 4,
 "nbformat_minor": 5
}
